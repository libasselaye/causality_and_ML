{
 "cells": [
  {
   "cell_type": "code",
   "execution_count": 1,
   "metadata": {},
   "outputs": [
    {
     "name": "stdout",
     "output_type": "stream",
     "text": [
      "Populating the interactive namespace from numpy and matplotlib\n"
     ]
    }
   ],
   "source": [
    "%pylab inline\n",
    "import pandas as pd"
   ]
  },
  {
   "cell_type": "markdown",
   "metadata": {},
   "source": [
    "## Part I: Advertising is working, right ?\n",
    "\n",
    "<img src='omer.png'/>\n",
    "\n",
    "### Let's look at this dataset from Criteo and prove advertising is working !"
   ]
  },
  {
   "cell_type": "code",
   "execution_count": 2,
   "metadata": {},
   "outputs": [],
   "source": [
    "df = pd.read_csv('criteo-small-causal-inference-problem.csv.gz', compression='gzip', nrows=10**5)"
   ]
  },
  {
   "cell_type": "code",
   "execution_count": 9,
   "metadata": {},
   "outputs": [
    {
     "data": {
      "text/html": [
       "<div>\n",
       "<style scoped>\n",
       "    .dataframe tbody tr th:only-of-type {\n",
       "        vertical-align: middle;\n",
       "    }\n",
       "\n",
       "    .dataframe tbody tr th {\n",
       "        vertical-align: top;\n",
       "    }\n",
       "\n",
       "    .dataframe thead th {\n",
       "        text-align: right;\n",
       "    }\n",
       "</style>\n",
       "<table border=\"1\" class=\"dataframe\">\n",
       "  <thead>\n",
       "    <tr style=\"text-align: right;\">\n",
       "      <th></th>\n",
       "      <th>context</th>\n",
       "      <th>vertical</th>\n",
       "      <th>temperature</th>\n",
       "      <th>nb_product_views</th>\n",
       "      <th>nb_displays</th>\n",
       "      <th>nb_clicks</th>\n",
       "      <th>nb_sales</th>\n",
       "    </tr>\n",
       "  </thead>\n",
       "  <tbody>\n",
       "    <tr>\n",
       "      <th>0</th>\n",
       "      <td>1</td>\n",
       "      <td>3</td>\n",
       "      <td>23</td>\n",
       "      <td>1</td>\n",
       "      <td>1</td>\n",
       "      <td>0</td>\n",
       "      <td>2</td>\n",
       "    </tr>\n",
       "    <tr>\n",
       "      <th>1</th>\n",
       "      <td>6</td>\n",
       "      <td>2</td>\n",
       "      <td>21</td>\n",
       "      <td>92</td>\n",
       "      <td>36</td>\n",
       "      <td>0</td>\n",
       "      <td>13</td>\n",
       "    </tr>\n",
       "    <tr>\n",
       "      <th>2</th>\n",
       "      <td>3</td>\n",
       "      <td>1</td>\n",
       "      <td>20</td>\n",
       "      <td>5</td>\n",
       "      <td>10</td>\n",
       "      <td>2</td>\n",
       "      <td>7</td>\n",
       "    </tr>\n",
       "    <tr>\n",
       "      <th>3</th>\n",
       "      <td>2</td>\n",
       "      <td>3</td>\n",
       "      <td>34</td>\n",
       "      <td>10</td>\n",
       "      <td>4</td>\n",
       "      <td>0</td>\n",
       "      <td>1</td>\n",
       "    </tr>\n",
       "    <tr>\n",
       "      <th>4</th>\n",
       "      <td>1</td>\n",
       "      <td>3</td>\n",
       "      <td>30</td>\n",
       "      <td>1</td>\n",
       "      <td>1</td>\n",
       "      <td>0</td>\n",
       "      <td>1</td>\n",
       "    </tr>\n",
       "  </tbody>\n",
       "</table>\n",
       "</div>"
      ],
      "text/plain": [
       "   context  vertical  temperature  nb_product_views  nb_displays  nb_clicks  \\\n",
       "0        1         3           23                 1            1          0   \n",
       "1        6         2           21                92           36          0   \n",
       "2        3         1           20                 5           10          2   \n",
       "3        2         3           34                10            4          0   \n",
       "4        1         3           30                 1            1          0   \n",
       "\n",
       "   nb_sales  \n",
       "0         2  \n",
       "1        13  \n",
       "2         7  \n",
       "3         1  \n",
       "4         1  "
      ]
     },
     "execution_count": 9,
     "metadata": {},
     "output_type": "execute_result"
    }
   ],
   "source": [
    "df.head()"
   ]
  },
  {
   "cell_type": "markdown",
   "metadata": {},
   "source": [
    "1. Examine the dataset and propose a precise definition of \"advertising is working\"\n",
    "1. Plot nb_sales as a fonction of nb_displays. What does it say ?\n",
    "1. Plot nb_sales as a function of other variables (vertical, context, temperature). What does it say ?\n",
    "1. Is it enough to prove advertising is working ?"
   ]
  },
  {
   "cell_type": "code",
   "execution_count": 10,
   "metadata": {},
   "outputs": [
    {
     "data": {
      "text/plain": [
       "Index(['context', 'vertical', 'temperature', 'nb_product_views', 'nb_displays',\n",
       "       'nb_clicks', 'nb_sales'],\n",
       "      dtype='object')"
      ]
     },
     "execution_count": 10,
     "metadata": {},
     "output_type": "execute_result"
    }
   ],
   "source": [
    "df.columns"
   ]
  },
  {
   "cell_type": "code",
   "execution_count": 11,
   "metadata": {},
   "outputs": [
    {
     "data": {
      "text/plain": [
       "(100000, 7)"
      ]
     },
     "execution_count": 11,
     "metadata": {},
     "output_type": "execute_result"
    }
   ],
   "source": [
    "df.shape"
   ]
  },
  {
   "cell_type": "markdown",
   "metadata": {},
   "source": [
    "## Part II: Are we really sure ?\n",
    "\n",
    "<img src='marge2.jpeg'/>\n",
    "\n",
    "1. Learn a linear regression `nb_sales ~ nb_displays` and note the coefficient of the model\n",
    "1. Learn a linear regression `nb_sales ~ nb_displays, context, ...` and note the coefficients of the model\n",
    "1. Is there a difference in coefficients ? Can you imagine why ?\n",
    "1. What is the name of this phenomenon in causal literature ?\n",
    "1. Are we still confident about our \"advertising is working\" hypothesis ?"
   ]
  },
  {
   "cell_type": "code",
   "execution_count": 15,
   "metadata": {},
   "outputs": [],
   "source": [
    "import pandas as pd\n",
    "from sklearn import linear_model"
   ]
  },
  {
   "cell_type": "code",
   "execution_count": 24,
   "metadata": {},
   "outputs": [
    {
     "name": "stdout",
     "output_type": "stream",
     "text": [
      "Intercept: \n",
      " [[0.10551696]]\n"
     ]
    }
   ],
   "source": [
    "# QUESTION 1 \n",
    "Y = df[['nb_sales']] \n",
    "X = df[['nb_displays']]\n",
    " \n",
    "# with sklearn\n",
    "regr = linear_model.LinearRegression()\n",
    "regr.fit(X, Y)\n",
    "\n",
    "print('Intercept: \\n', regr.coef_)"
   ]
  },
  {
   "cell_type": "code",
   "execution_count": 25,
   "metadata": {},
   "outputs": [
    {
     "name": "stdout",
     "output_type": "stream",
     "text": [
      "Intercept: \n",
      " [1.14966382]\n"
     ]
    }
   ],
   "source": [
    "# QUESTION 2\n",
    "Y = df[['nb_sales']] # here we have 2 variables for multiple regression. If you just want to use one variable for simple linear regression, then use X = df['Interest_Rate'] for example.Alternatively, you may add additional variables within the brackets\n",
    "X = df[['nb_displays','context']]\n",
    " \n",
    "# with sklearn\n",
    "regr = linear_model.LinearRegression()\n",
    "regr.fit(X, Y)\n",
    "\n",
    "print('Intercept: \\n', regr.intercept_)"
   ]
  },
  {
   "cell_type": "code",
   "execution_count": 26,
   "metadata": {},
   "outputs": [
    {
     "name": "stdout",
     "output_type": "stream",
     "text": [
      "Coefficients: \n",
      " [[-0.02327535  1.19207566]]\n"
     ]
    }
   ],
   "source": [
    "print('Coefficients: \\n', regr.coef_)"
   ]
  },
  {
   "cell_type": "code",
   "execution_count": 28,
   "metadata": {},
   "outputs": [
    {
     "data": {
      "text/html": [
       "<div>\n",
       "<style scoped>\n",
       "    .dataframe tbody tr th:only-of-type {\n",
       "        vertical-align: middle;\n",
       "    }\n",
       "\n",
       "    .dataframe tbody tr th {\n",
       "        vertical-align: top;\n",
       "    }\n",
       "\n",
       "    .dataframe thead th {\n",
       "        text-align: right;\n",
       "    }\n",
       "</style>\n",
       "<table border=\"1\" class=\"dataframe\">\n",
       "  <thead>\n",
       "    <tr style=\"text-align: right;\">\n",
       "      <th></th>\n",
       "      <th>context</th>\n",
       "      <th>vertical</th>\n",
       "      <th>temperature</th>\n",
       "      <th>nb_product_views</th>\n",
       "      <th>nb_displays</th>\n",
       "      <th>nb_clicks</th>\n",
       "      <th>nb_sales</th>\n",
       "    </tr>\n",
       "  </thead>\n",
       "  <tbody>\n",
       "    <tr>\n",
       "      <th>2</th>\n",
       "      <td>3</td>\n",
       "      <td>1</td>\n",
       "      <td>20</td>\n",
       "      <td>5</td>\n",
       "      <td>10</td>\n",
       "      <td>2</td>\n",
       "      <td>7</td>\n",
       "    </tr>\n",
       "    <tr>\n",
       "      <th>9</th>\n",
       "      <td>3</td>\n",
       "      <td>3</td>\n",
       "      <td>27</td>\n",
       "      <td>4</td>\n",
       "      <td>12</td>\n",
       "      <td>5</td>\n",
       "      <td>3</td>\n",
       "    </tr>\n",
       "    <tr>\n",
       "      <th>12</th>\n",
       "      <td>3</td>\n",
       "      <td>3</td>\n",
       "      <td>30</td>\n",
       "      <td>15</td>\n",
       "      <td>9</td>\n",
       "      <td>1</td>\n",
       "      <td>3</td>\n",
       "    </tr>\n",
       "    <tr>\n",
       "      <th>25</th>\n",
       "      <td>3</td>\n",
       "      <td>2</td>\n",
       "      <td>28</td>\n",
       "      <td>5</td>\n",
       "      <td>9</td>\n",
       "      <td>0</td>\n",
       "      <td>5</td>\n",
       "    </tr>\n",
       "    <tr>\n",
       "      <th>35</th>\n",
       "      <td>3</td>\n",
       "      <td>1</td>\n",
       "      <td>19</td>\n",
       "      <td>5</td>\n",
       "      <td>9</td>\n",
       "      <td>0</td>\n",
       "      <td>8</td>\n",
       "    </tr>\n",
       "    <tr>\n",
       "      <th>...</th>\n",
       "      <td>...</td>\n",
       "      <td>...</td>\n",
       "      <td>...</td>\n",
       "      <td>...</td>\n",
       "      <td>...</td>\n",
       "      <td>...</td>\n",
       "      <td>...</td>\n",
       "    </tr>\n",
       "    <tr>\n",
       "      <th>99979</th>\n",
       "      <td>3</td>\n",
       "      <td>1</td>\n",
       "      <td>20</td>\n",
       "      <td>3</td>\n",
       "      <td>11</td>\n",
       "      <td>0</td>\n",
       "      <td>6</td>\n",
       "    </tr>\n",
       "    <tr>\n",
       "      <th>99984</th>\n",
       "      <td>3</td>\n",
       "      <td>1</td>\n",
       "      <td>29</td>\n",
       "      <td>6</td>\n",
       "      <td>11</td>\n",
       "      <td>0</td>\n",
       "      <td>6</td>\n",
       "    </tr>\n",
       "    <tr>\n",
       "      <th>99990</th>\n",
       "      <td>3</td>\n",
       "      <td>3</td>\n",
       "      <td>23</td>\n",
       "      <td>14</td>\n",
       "      <td>22</td>\n",
       "      <td>0</td>\n",
       "      <td>4</td>\n",
       "    </tr>\n",
       "    <tr>\n",
       "      <th>99995</th>\n",
       "      <td>3</td>\n",
       "      <td>3</td>\n",
       "      <td>28</td>\n",
       "      <td>6</td>\n",
       "      <td>9</td>\n",
       "      <td>0</td>\n",
       "      <td>6</td>\n",
       "    </tr>\n",
       "    <tr>\n",
       "      <th>99996</th>\n",
       "      <td>3</td>\n",
       "      <td>3</td>\n",
       "      <td>20</td>\n",
       "      <td>22</td>\n",
       "      <td>16</td>\n",
       "      <td>1</td>\n",
       "      <td>3</td>\n",
       "    </tr>\n",
       "  </tbody>\n",
       "</table>\n",
       "<p>13628 rows × 7 columns</p>\n",
       "</div>"
      ],
      "text/plain": [
       "       context  vertical  temperature  nb_product_views  nb_displays  \\\n",
       "2            3         1           20                 5           10   \n",
       "9            3         3           27                 4           12   \n",
       "12           3         3           30                15            9   \n",
       "25           3         2           28                 5            9   \n",
       "35           3         1           19                 5            9   \n",
       "...        ...       ...          ...               ...          ...   \n",
       "99979        3         1           20                 3           11   \n",
       "99984        3         1           29                 6           11   \n",
       "99990        3         3           23                14           22   \n",
       "99995        3         3           28                 6            9   \n",
       "99996        3         3           20                22           16   \n",
       "\n",
       "       nb_clicks  nb_sales  \n",
       "2              2         7  \n",
       "9              5         3  \n",
       "12             1         3  \n",
       "25             0         5  \n",
       "35             0         8  \n",
       "...          ...       ...  \n",
       "99979          0         6  \n",
       "99984          0         6  \n",
       "99990          0         4  \n",
       "99995          0         6  \n",
       "99996          1         3  \n",
       "\n",
       "[13628 rows x 7 columns]"
      ]
     },
     "execution_count": 28,
     "metadata": {},
     "output_type": "execute_result"
    }
   ],
   "source": [
    "df[df.context==3]"
   ]
  },
  {
   "cell_type": "code",
   "execution_count": null,
   "metadata": {},
   "outputs": [],
   "source": [
    "# On fait la regression par bloc \n",
    "df_context_3 = df[df.context==3]"
   ]
  },
  {
   "cell_type": "code",
   "execution_count": 31,
   "metadata": {},
   "outputs": [
    {
     "data": {
      "text/plain": [
       "[1]"
      ]
     },
     "execution_count": 31,
     "metadata": {},
     "output_type": "execute_result"
    }
   ],
   "source": [
    "A = []\n",
    "A.append(1)\n",
    "A"
   ]
  },
  {
   "cell_type": "code",
   "execution_count": 38,
   "metadata": {},
   "outputs": [
    {
     "data": {
      "text/plain": [
       "[array([[0.29550797]]),\n",
       " array([[0.12814228]]),\n",
       " array([[0.06843371]]),\n",
       " array([[0.03114511]]),\n",
       " array([[0.03130882]]),\n",
       " array([[0.0293237]]),\n",
       " array([[0.00718435]]),\n",
       " array([[-0.02000353]]),\n",
       " array([[0.0096811]])]"
      ]
     },
     "execution_count": 38,
     "metadata": {},
     "output_type": "execute_result"
    }
   ],
   "source": [
    "list_beta =[]\n",
    "for i in range(1,10) :\n",
    "    X = df.loc[df['context']==i,['nb_displays']]\n",
    "    y = df.loc[df['context']==i,['nb_sales']]\n",
    "    lm = LinearRegression() # création de l'objet régression linéaire, vide\n",
    "    lm.fit(X, y)\n",
    "    list_beta.append(lm.coef_)\n",
    "\n",
    "list_beta"
   ]
  },
  {
   "cell_type": "markdown",
   "metadata": {},
   "source": [
    "## Part III: Let's look deeper, because at least in some cases I believe it should work\n",
    "\n",
    "<img src='lisa.png' />\n",
    "\n",
    "1. What hypothesis can we make about the causal relation of sales and displays ? Write the different possibilites based on the observed dependence\n",
    "1. Let's assume there are no unobserved confounders. Redo the regression of previous part but for each `context` separately. What do you find and what does it say wrt the \"advertising is working\" hypothesis ?\n",
    "1. Point limitations "
   ]
  },
  {
   "cell_type": "code",
   "execution_count": null,
   "metadata": {},
   "outputs": [],
   "source": []
  },
  {
   "cell_type": "markdown",
   "metadata": {},
   "source": [
    "## Part IV: Causal Graph Discovery (Optional)\n",
    "\n",
    "Thanks to Marge we have now a conditional independence test (see code below). \n",
    "\n",
    "<img src='marge.png' />\n",
    "\n",
    "To complete our understanding we want now to uncover the specific causal relations among our variables.\n",
    "\n",
    "1. what can we say about `temperature - nb_sales` ?\n",
    "1. what can we say about `nb_clicks - nb_sales` ?\n",
    "1. Let's look at (̀`context - nb_displays - nb_clicks`). Write up the different independence tests we need to uncover the causal graph between the 3 variables. Then perform those tests using the provided code to infer the causal structure.\n",
    "1. Let's look at (̀`context - nb_displays - vertical - nb_sales`). We consider the following hypothesis for the causal graph `context -> (nb_displays, vertical) -> nb_sales`. Write up the different independence tests we need to verify if this structure is faithfully describing our data. What do you conclude ?"
   ]
  },
  {
   "cell_type": "code",
   "execution_count": 33,
   "metadata": {},
   "outputs": [],
   "source": [
    "from sklearn.model_selection import train_test_split\n",
    "from sklearn.ensemble import GradientBoostingRegressor, RandomForestRegressor\n",
    "from sklearn.linear_model import LinearRegression\n",
    "from sklearn.metrics import mean_squared_error\n",
    "from scipy.stats import percentileofscore\n",
    "\n",
    "def modelbased_conditionnal_independence_test(\n",
    "    dff,\n",
    "    x_cols, y_col, z_cols, \n",
    "    model=LinearRegression(), #RandomForestRegressor(n_jobs=-1, n_estimators=30), \n",
    "    n_splits=30,\n",
    "    loss=mean_squared_error,\n",
    "):\n",
    "    \"\"\"\n",
    "    Perform a conditional, model-based independence test of the form \"X ind. Y | Z\".\n",
    "    \n",
    "    Internally, estimate the goodness of fit of a model predicting P(Y|Z) and compare it to the same\n",
    "    model predicting P(Y|Z,X). \n",
    "    \n",
    "    H0 is the hypothesis that X is bringing additional information so the model with X as added feature\n",
    "    should perform better.\n",
    "\n",
    "    H1 is the hypothesis that all information linking X to Y is flowing through Z; so both models \n",
    "    should perform similarly.\n",
    "    \n",
    "    A low p-value (e.g. <.05) indicates that you cannot reject H0.\n",
    "    \n",
    "    Returns a tuple:\n",
    "    (\n",
    "      - H1 error distribution\n",
    "      - H0 error\n",
    "      - corresponding p-value\n",
    "    )\n",
    "    \"\"\"\n",
    "    h1_error_dist = []\n",
    "    Z = dff[z_cols].values if z_cols is not None and len(z_cols) else np.ones(len(dff)).reshape(-1, 1)\n",
    "    for _ in range(n_splits):\n",
    "        X_train, X_test, y_train, y_test = train_test_split(\n",
    "            Z, # without X\n",
    "            dff[y_col].values.ravel(), \n",
    "            test_size=0.33, random_state=_\n",
    "        )\n",
    "        model.fit(X_train, y_train)\n",
    "        h1_error_dist += [loss(y_test, model.predict(X_test))]\n",
    "    \n",
    "    X_train, X_test, y_train, y_test = train_test_split(\n",
    "        np.hstack([dff[x_cols].values,Z]), # with added X\n",
    "        dff[y_col].values.ravel(), \n",
    "        test_size=0.33, random_state=42\n",
    "    )\n",
    "    model.fit(X_train, y_train)\n",
    "    h0_error = loss(y_test, model.predict(X_test))\n",
    "    \n",
    "    if h0_error > np.mean(h1_error_dist):\n",
    "        pval = 0\n",
    "    else:\n",
    "        pval = percentileofscore(h1_error_dist, h0_error)/100.\n",
    "    return h0_error, h1_error_dist, pval"
   ]
  },
  {
   "cell_type": "code",
   "execution_count": 47,
   "metadata": {},
   "outputs": [
    {
     "data": {
      "text/plain": [
       "Text(0.5, 1.0, 'p-val: 0.242')"
      ]
     },
     "execution_count": 47,
     "metadata": {},
     "output_type": "execute_result"
    },
    {
     "data": {
      "image/png": "[encoded data removed]",
      "text/plain": [
       "<Figure size 432x288 with 1 Axes>"
      ]
     },
     "metadata": {
      "needs_background": "light"
     },
     "output_type": "display_data"
    }
   ],
   "source": [
    "h1, dist, pval = modelbased_conditionnal_independence_test(\n",
    "    df.head(10**4),\n",
    "    ['nb_displays'], # X\n",
    "    ['nb_clicks'], # Y\n",
    "    ['context'], # Z\n",
    "    n_splits=1000,\n",
    ")\n",
    "plt.hist(dist)\n",
    "plt.plot((h1,h1),(0,100))\n",
    "plt.title('p-val: %.3f' % pval)"
   ]
  },
  {
   "cell_type": "code",
   "execution_count": 45,
   "metadata": {},
   "outputs": [
    {
     "data": {
      "text/plain": [
       "Text(0.5, 1.0, 'p-val: 0.090')"
      ]
     },
     "execution_count": 45,
     "metadata": {},
     "output_type": "execute_result"
    },
    {
     "data": {
      "image/png": "[encoded data removed]",
      "text/plain": [
       "<Figure size 432x288 with 1 Axes>"
      ]
     },
     "metadata": {
      "needs_background": "light"
     },
     "output_type": "display_data"
    }
   ],
   "source": [
    "h1, dist, pval = modelbased_conditionnal_independence_test(\n",
    "    df.head(10**4),\n",
    "    ['temperature'], # X\n",
    "    ['nb_sales'], # Y\n",
    "    None, # Z\n",
    "    n_splits=1000,\n",
    ")\n",
    "plt.hist(dist)\n",
    "plt.plot((h1,h1),(0,100))\n",
    "plt.title('p-val: %.3f' % pval)"
   ]
  },
  {
   "cell_type": "code",
   "execution_count": 46,
   "metadata": {},
   "outputs": [
    {
     "data": {
      "text/plain": [
       "Text(0.5, 1.0, 'p-val: 0.000')"
      ]
     },
     "execution_count": 46,
     "metadata": {},
     "output_type": "execute_result"
    },
    {
     "data": {
      "image/png": "[encoded data removed]",
      "text/plain": [
       "<Figure size 432x288 with 1 Axes>"
      ]
     },
     "metadata": {
      "needs_background": "light"
     },
     "output_type": "display_data"
    }
   ],
   "source": [
    "h1, dist, pval = modelbased_conditionnal_independence_test(\n",
    "    df.head(10**4),\n",
    "    ['nb_clicks'], # X\n",
    "    ['nb_sales'], # Y\n",
    "    None, # Z\n",
    "    n_splits=1000,\n",
    ")\n",
    "plt.hist(dist)\n",
    "plt.plot((h1,h1),(0,100))\n",
    "plt.title('p-val: %.3f' % pval)"
   ]
  },
  {
   "cell_type": "code",
   "execution_count": 48,
   "metadata": {},
   "outputs": [],
   "source": [
    "#CONCLUSION : si la barre est à l'interieur du graphe c'est indépendant sinon y'a une dépendance"
   ]
  },
  {
   "cell_type": "markdown",
   "metadata": {},
   "source": [
    "## Conclusion\n",
    "\n",
    "1. Write a conclusion that summarizes what you have learned\n",
    "1. Discuss limitations of the approach, esp. wrt the independence test that is implemented. E.g. is it sufficient or necessary etc"
   ]
  },
  {
   "cell_type": "code",
   "execution_count": null,
   "metadata": {},
   "outputs": [],
   "source": [
    "#How to construct data frame \n",
    "\"\"\"\n",
    "Stock_Market = {'Year': [2017,2017,2017,2017,2017,2017,2017,2017,2017,2017,2017,2017,2016,2016,2016,2016,2016,2016,2016,2016,2016,2016,2016,2016],\n",
    "                'Month': [12, 11,10,9,8,7,6,5,4,3,2,1,12,11,10,9,8,7,6,5,4,3,2,1],\n",
    "                'Interest_Rate': [2.75,2.5,2.5,2.5,2.5,2.5,2.5,2.25,2.25,2.25,2,2,2,1.75,1.75,1.75,1.75,1.75,1.75,1.75,1.75,1.75,1.75,1.75],\n",
    "                'Unemployment_Rate': [5.3,5.3,5.3,5.3,5.4,5.6,5.5,5.5,5.5,5.6,5.7,5.9,6,5.9,5.8,6.1,6.2,6.1,6.1,6.1,5.9,6.2,6.2,6.1],\n",
    "                'Stock_Index_Price': [1464,1394,1357,1293,1256,1254,1234,1195,1159,1167,1130,1075,1047,965,943,958,971,949,884,866,876,822,704,719]        \n",
    "                }\n",
    "\n",
    "df = pd.DataFrame(Stock_Market,columns=['Year','Month','Interest_Rate','Unemployment_Rate','Stock_Index_Price']) \n",
    "\"\"\""
   ]
  }
 ],
 "metadata": {
  "kernelspec": {
   "display_name": "Python 3",
   "language": "python",
   "name": "python3"
  },
  "language_info": {
   "codemirror_mode": {
    "name": "ipython",
    "version": 3
   },
   "file_extension": ".py",
   "mimetype": "text/x-python",
   "name": "python",
   "nbconvert_exporter": "python",
   "pygments_lexer": "ipython3",
   "version": "3.8.8"
  }
 },
 "nbformat": 4,
 "nbformat_minor": 2
}
